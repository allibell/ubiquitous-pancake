{
 "cells": [
  {
   "cell_type": "markdown",
   "metadata": {},
   "source": [
    "## Lesson: Toy Differential Privacy - Simple Database Queries"
   ]
  },
  {
   "cell_type": "markdown",
   "metadata": {},
   "source": [
    "In this section we're going to play around with Differential Privacy in the context of a database query. The database is going to be a VERY simple database with only one boolean column. Each row corresponds to a person. Each value corresponds to whether or not that person has a certain private attribute (such as whether they have a certain disease, or whether they are above/below a certain age). We are then going to learn how to know whether a database query over such a small database is differentially private or not - and more importantly - what techniques are at our disposal to ensure various levels of privacy\n",
    "\n",
    "\n",
    "### First We Create a Simple Database\n",
    "\n",
    "Step one is to create our database - we're going to do this by initializing a random list of 1s and 0s (which are the entries in our database). Note - the number of entries directly corresponds to the number of people in our database."
   ]
  },
  {
   "cell_type": "code",
   "execution_count": 1,
   "metadata": {},
   "outputs": [
    {
     "data": {
      "text/plain": [
       "tensor([1, 0, 0,  ..., 1, 0, 0], dtype=torch.uint8)"
      ]
     },
     "execution_count": 1,
     "metadata": {},
     "output_type": "execute_result"
    }
   ],
   "source": [
    "import torch\n",
    "\n",
    "# the number of entries in our database\n",
    "num_entries = 5000\n",
    "\n",
    "db = torch.rand(num_entries) > 0.5\n",
    "db"
   ]
  },
  {
   "cell_type": "markdown",
   "metadata": {},
   "source": [
    "## Project: Generate Parallel Databases\n",
    "\n",
    "Key to the definition of differenital privacy is the ability to ask the question \"When querying a database, if I removed someone from the database, would the output of the query be any different?\". Thus, in order to check this, we must construct what we term \"parallel databases\" which are simply databases with one entry removed. \n",
    "\n",
    "In this first project, I want you to create a list of every parallel database to the one currently contained in the \"db\" variable. Then, I want you to create a function which both:\n",
    "\n",
    "- creates the initial database (db)\n",
    "- creates all parallel databases"
   ]
  },
  {
   "cell_type": "code",
   "execution_count": 15,
   "metadata": {
    "lines_to_next_cell": 1
   },
   "outputs": [],
   "source": [
    "# create list of all parallel dbs\n",
    "parallel_dbs = [torch.cat((db[:i], db[i + 1:])) for i in range(num_entries)]"
   ]
  },
  {
   "cell_type": "code",
   "execution_count": 30,
   "metadata": {
    "lines_to_next_cell": 1
   },
   "outputs": [],
   "source": [
    "# function which creates parallel dbs given a db\n",
    "def get_parallel_dbs(db):\n",
    "    pdbs = [torch.cat((db[:i], db[i + 1:])) for i in range(len(db))]\n",
    "    return pdbs"
   ]
  },
  {
   "cell_type": "code",
   "execution_count": 176,
   "metadata": {},
   "outputs": [],
   "source": [
    "def create_db(num_entries):\n",
    "    return torch.rand(num_entries) > 0.5"
   ]
  },
  {
   "cell_type": "code",
   "execution_count": 177,
   "metadata": {},
   "outputs": [],
   "source": [
    "# function which populates db and parallel dbs\n",
    "def create_db_and_parallels(num_entries):\n",
    "    db = create_db(num_entries)\n",
    "    pdbs = get_parallel_dbs(db)\n",
    "\n",
    "    return db, pdbs"
   ]
  },
  {
   "cell_type": "markdown",
   "metadata": {},
   "source": [
    "-\n",
    "# Lesson: Towards Evaluating The Differential Privacy of a Function\n",
    "\n",
    "Intuitively, we want to be able to query our database and evaluate whether or not the result of the query is leaking \"private\" information. As mentioned previously, this is about evaluating whether the output of a query changes when we remove someone from the database. Specifically, we want to evaluate the *maximum* amount the query changes when someone is removed (maximum over all possible people who could be removed). So, in order to evaluate how much privacy is leaked, we're going to iterate over each person in the database and measure the difference in the output of the query relative to when we query the entire database. \n",
    "\n",
    "Just for the sake of argument, let's make our first \"database query\" a simple sum. Aka, we're going to count the number of 1s in the database."
   ]
  },
  {
   "cell_type": "code",
   "execution_count": 34,
   "metadata": {},
   "outputs": [],
   "source": [
    "db, pdbs = create_db_and_parallels(5000)"
   ]
  },
  {
   "cell_type": "code",
   "execution_count": 10,
   "metadata": {},
   "outputs": [],
   "source": [
    "def query(db):\n",
    "    return db.sum()"
   ]
  },
  {
   "cell_type": "code",
   "execution_count": 11,
   "metadata": {},
   "outputs": [],
   "source": [
    "full_db_result = query(db)"
   ]
  },
  {
   "cell_type": "code",
   "execution_count": 12,
   "metadata": {},
   "outputs": [],
   "source": [
    "sensitivity = 0\n",
    "for pdb in pdbs:\n",
    "    pdb_result = query(pdb)\n",
    "    \n",
    "    db_distance = torch.abs(pdb_result - full_db_result)\n",
    "    \n",
    "    if(db_distance > sensitivity):\n",
    "        sensitivity = db_distance"
   ]
  },
  {
   "cell_type": "code",
   "execution_count": 13,
   "metadata": {
    "lines_to_next_cell": 1
   },
   "outputs": [
    {
     "data": {
      "text/plain": [
       "tensor(1)"
      ]
     },
     "execution_count": 13,
     "metadata": {},
     "output_type": "execute_result"
    }
   ],
   "source": [
    "sensitivity"
   ]
  },
  {
   "cell_type": "markdown",
   "metadata": {},
   "source": [
    "# Project - Evaluating the Privacy of a Function\n",
    "\n",
    "In the last section, we measured the difference between each parallel db's query result and the query result for the entire database and then calculated the max value (which was 1). This value is called \"sensitivity\", and it corresponds to the function we chose for the query. Namely, the \"sum\" query will always have a sensitivity of exactly 1. However, we can also calculate sensitivity for other functions as well.\n",
    "\n",
    "Let's try to calculate sensitivity for the \"mean\" function."
   ]
  },
  {
   "cell_type": "code",
   "execution_count": 108,
   "metadata": {
    "lines_to_next_cell": 1
   },
   "outputs": [],
   "source": [
    "def sensitivity(query, num_entries=1000):\n",
    "    db, pdbs = create_db_and_parallels(num_entries)\n",
    "    full_db_result = query(db)\n",
    "\n",
    "    sensitivity = 0\n",
    "    for pdb in pdbs:\n",
    "        distance = torch.abs(query(pdb) - full_db_result)\n",
    "        if distance > sensitivity:\n",
    "            sensitivity = distance\n",
    "    \n",
    "    return sensitivity"
   ]
  },
  {
   "cell_type": "code",
   "execution_count": 50,
   "metadata": {},
   "outputs": [],
   "source": [
    "def query(db):\n",
    "    return db.float().mean()"
   ]
  },
  {
   "cell_type": "code",
   "execution_count": 59,
   "metadata": {
    "lines_to_next_cell": 1
   },
   "outputs": [
    {
     "data": {
      "text/plain": [
       "tensor(0.0005)"
      ]
     },
     "execution_count": 59,
     "metadata": {},
     "output_type": "execute_result"
    }
   ],
   "source": [
    "sensitivity(query)"
   ]
  },
  {
   "cell_type": "markdown",
   "metadata": {},
   "source": [
    "Wow! That sensitivity is WAY lower. Note the intuition here. \"Sensitivity\" is measuring how sensitive the output of the query is to a person being removed from the database. For a simple sum, this is always 1, but for the mean, removing a person is going to change the result of the query by rougly 1 divided by the size of the database (which is much smaller). Thus, \"mean\" is a VASTLY less \"sensitive\" function (query) than SUM."
   ]
  },
  {
   "cell_type": "markdown",
   "metadata": {},
   "source": [
    "# Project: Calculate L1 Sensitivity For Threshold\n",
    "\n",
    "In this first project, I want you to calculate the sensitivty for the \"threshold\" function. \n",
    "\n",
    "- First compute the sum over the database (i.e. sum(db)) and return whether that sum is greater than a certain threshold.\n",
    "- Then, I want you to create databases of size 10 and threshold of 5 and calculate the sensitivity of the function. \n",
    "- Finally, re-initialize the database 10 times and calculate the sensitivity each time."
   ]
  },
  {
   "cell_type": "code",
   "execution_count": 141,
   "metadata": {
    "lines_to_next_cell": 1
   },
   "outputs": [],
   "source": [
    "def threshold(db, thr=5):\n",
    "    return (sum(db) > thr).float()"
   ]
  },
  {
   "cell_type": "code",
   "execution_count": 142,
   "metadata": {},
   "outputs": [
    {
     "name": "stdout",
     "output_type": "stream",
     "text": [
      "0\n"
     ]
    }
   ],
   "source": [
    "print(sensitivity(threshold, 10))"
   ]
  },
  {
   "cell_type": "code",
   "execution_count": 143,
   "metadata": {},
   "outputs": [
    {
     "name": "stdout",
     "output_type": "stream",
     "text": [
      "Sensitivity 00: 0\n",
      "Sensitivity 01: 1.0\n",
      "Sensitivity 02: 0\n",
      "Sensitivity 03: 0\n",
      "Sensitivity 04: 0\n",
      "Sensitivity 05: 0\n",
      "Sensitivity 06: 0\n",
      "Sensitivity 07: 0\n",
      "Sensitivity 08: 0\n",
      "Sensitivity 09: 0\n"
     ]
    }
   ],
   "source": [
    "for i in range(10):\n",
    "    print(f\"Sensitivity {i:0>2d}: {sensitivity(threshold, 10)}\")"
   ]
  },
  {
   "cell_type": "code",
   "execution_count": null,
   "metadata": {},
   "outputs": [],
   "source": []
  },
  {
   "cell_type": "markdown",
   "metadata": {},
   "source": [
    "# Lesson: A Basic Differencing Attack\n",
    "\n",
    "Sadly none of the functions we've looked at so far are differentially private (despite them having varying levels of sensitivity). The most basic type of attack can be done as follows.\n",
    "\n",
    "Let's say we wanted to figure out a specific person's value in the database. All we would have to do is query for the sum of the entire database and then the sum of the entire database without that person!\n",
    "\n",
    "# Project: Perform a Differencing Attack on Row 10\n",
    "\n",
    "In this project, I want you to construct a database and then demonstrate how you can use two different sum queries to explose the value of the person represented by row 10 in the database (note, you'll need to use a database with at least 10 rows)"
   ]
  },
  {
   "cell_type": "code",
   "execution_count": 145,
   "metadata": {},
   "outputs": [],
   "source": [
    "db, pdbs = create_db_and_parallels(11)"
   ]
  },
  {
   "cell_type": "code",
   "execution_count": 158,
   "metadata": {},
   "outputs": [],
   "source": [
    "# differencing attack using sum query\n",
    "\n",
    "query = sum\n",
    "full_db_result = query(db)\n",
    "sliced_db_result = query(pdbs[10])\n",
    "secret = full_db_result - sliced_db_result"
   ]
  },
  {
   "cell_type": "code",
   "execution_count": 156,
   "metadata": {},
   "outputs": [],
   "source": [
    "# differencing attack using mean query\n",
    "\n",
    "query = mean\n",
    "full_db_result = query(db)\n",
    "sliced_db_result = query(pdbs[10])\n",
    "secret = ((full_db_result - sliced_db_result) > 0).float()"
   ]
  },
  {
   "cell_type": "code",
   "execution_count": 162,
   "metadata": {},
   "outputs": [],
   "source": [
    "# differencing attach using threshold query\n",
    "\n",
    "query = threshold\n",
    "full_db_result = query(db)\n",
    "sliced_db_result = query(pdbs[10])\n",
    "secret = full_db_result - sliced_db_result"
   ]
  },
  {
   "cell_type": "markdown",
   "metadata": {},
   "source": [
    "# Project: Local Differential Privacy\n",
    "\n",
    "As you can see, the basic sum query is not differentially private at all! In truth, differential privacy always requires a form of randomness added to the query. Let me show you what I mean.\n",
    "\n",
    "### Randomized Response (Local Differential Privacy)\n",
    "\n",
    "Let's say I have a group of people I wish to survey about a very taboo behavior which I think they will lie about (say, I want to know if they have ever committed a certain kind of crime). I'm not a policeman, I'm just trying to collect statistics to understand the higher level trend in society. So, how do we do this? One technique is to add randomness to each person's response by giving each person the following instructions (assuming I'm asking a simple yes/no question):\n",
    "\n",
    "- Flip a coin 2 times.\n",
    "- If the first coin flip is heads, answer honestly\n",
    "- If the first coin flip is tails, answer according to the second coin flip (heads for yes, tails for no)!\n",
    "\n",
    "Thus, each person is now protected with \"plausible deniability\". If they answer \"Yes\" to the question \"have you committed X crime?\", then it might becasue they actually did, or it might be becasue they are answering according to a random coin flip. Each person has a high degree of protection. Furthermore, we can recover the underlying statistics with some accuracy, as the \"true statistics\" are simply averaged with a 50% probability. Thus, if we collect a bunch of samples and it turns out that 60% of people answer yes, then we know that the TRUE distribution is actually centered around 70%, because 70% averaged wtih 50% (a coin flip) is 60% which is the result we obtained. \n",
    "\n",
    "However, it should be noted that, especially when we only have a few samples, this comes at the cost of accuracy. This tradeoff exists across all of Differential Privacy. The greater the privacy protection (plausible deniability) the less accurate the results. \n",
    "\n",
    "Let's implement this local DP for our database before!"
   ]
  },
  {
   "cell_type": "code",
   "execution_count": 163,
   "metadata": {
    "lines_to_next_cell": 1
   },
   "outputs": [],
   "source": [
    "def sensitivity_given_db(query, db):\n",
    "    pdbs = get_parallel_dbs(db)\n",
    "    full_db_result = query(db)\n",
    "\n",
    "    sensitivity = 0\n",
    "    for pdb in pdbs:\n",
    "        distance = torch.abs(query(pdb) - full_db_result)\n",
    "        if distance > sensitivity:\n",
    "            sensitivity = distance\n",
    "    \n",
    "    return sensitivity"
   ]
  },
  {
   "cell_type": "code",
   "execution_count": 205,
   "metadata": {},
   "outputs": [],
   "source": [
    "def query_db_with_noise(db):\n",
    "    first_coin_flip = (torch.rand(len(db)) > 0.5).float()\n",
    "    second_coin_flip = (torch.rand(len(db)) > 0.5).float()\n",
    "    noised_db = (first_coin_flip * db.float() + \n",
    "                ((1 - first_coin_flip) * second_coin_flip))\n",
    "    \n",
    "    sensitivity = sensitivity_given_db(mean, db)\n",
    "    noised_sensitivity = sensitivity_given_db(mean, noised_db)\n",
    "    \n",
    "    true_result = mean(db)\n",
    "    noised_result = mean(noised_db) * 2 - 0.5\n",
    "    \n",
    "    print(f\"Shape {db.shape[0]}\")\n",
    "    print(f\"True result: {true_result:.3f} | \",\n",
    "          f\"Noised result: {noised_result:.3f}\")\n",
    "    print(f\"DB sensitivity: {sensitivity:.3f} | \",\n",
    "          f\"Noised sensitivity: {noised_sensitivity:.3f}\\n\")"
   ]
  },
  {
   "cell_type": "code",
   "execution_count": 206,
   "metadata": {},
   "outputs": [],
   "source": [
    "dbs = [create_db(i) for i in (10, 100, 1000, 10000)]"
   ]
  },
  {
   "cell_type": "code",
   "execution_count": 207,
   "metadata": {},
   "outputs": [
    {
     "name": "stdout",
     "output_type": "stream",
     "text": [
      "Shape 10\n",
      "True result: 0.400 |  Noised result: 0.300\n",
      "DB sensitivity: 0.067 |  Noised sensitivity: 0.067\n",
      "\n",
      "Shape 100\n",
      "True result: 0.490 |  Noised result: 0.520\n",
      "DB sensitivity: 0.005 |  Noised sensitivity: 0.005\n",
      "\n",
      "Shape 1000\n",
      "True result: 0.505 |  Noised result: 0.508\n",
      "DB sensitivity: 0.001 |  Noised sensitivity: 0.001\n",
      "\n",
      "Shape 10000\n",
      "True result: 0.492 |  Noised result: 0.504\n",
      "DB sensitivity: 0.000 |  Noised sensitivity: 0.000\n",
      "\n"
     ]
    }
   ],
   "source": [
    "for db in dbs:\n",
    "    query_db_with_noise(db)"
   ]
  },
  {
   "cell_type": "code",
   "execution_count": 249,
   "metadata": {},
   "outputs": [
    {
     "name": "stdout",
     "output_type": "stream",
     "text": [
      "tensor([1, 1, 0, 1, 0, 0, 0, 0, 1, 0], dtype=torch.uint8)\n"
     ]
    }
   ],
   "source": [
    "print(dbs[0])"
   ]
  },
  {
   "cell_type": "markdown",
   "metadata": {},
   "source": [
    "# Project: Varying Amounts of Noise\n",
    "\n",
    "In this project, I want you to augment the randomized response query (the one we just wrote) to allow for varying amounts of randomness to be added. Specifically, I want you to bias the coin flip to be higher or lower and then run the same experiment. \n",
    "\n",
    "Note - this one is a bit tricker than you might expect. You need to both adjust the likelihood of the first coin flip AND the de-skewing at the end (where we create the \"augmented_result\" variable)."
   ]
  },
  {
   "cell_type": "code",
   "execution_count": 372,
   "metadata": {},
   "outputs": [],
   "source": [
    "def query(db, noise=0.2):\n",
    "    # (1 - noise)% chance of being heads (honest)\n",
    "    # noise% chance of using second coin flip\n",
    "    first_coin_flip = (torch.rand(len(db)) > noise).float()\n",
    "    second_coin_flip = (torch.rand(len(db)) > 0.5).float()\n",
    "    noised_db = (first_coin_flip * db.float() + \n",
    "                ((1 - first_coin_flip) * second_coin_flip))\n",
    "    \n",
    "    true_result = mean(db)\n",
    "    noised_result = (mean(noised_db) - (noise * 0.5)) / (1 - noise)\n",
    "          \n",
    "    print(f\"Shape {db.shape[0]}\")\n",
    "    print(f\"True result: {true_result:.3f} | \",\n",
    "          f\"Noised result: {noised_result:.3f}\\n\")"
   ]
  },
  {
   "cell_type": "code",
   "execution_count": 373,
   "metadata": {},
   "outputs": [
    {
     "name": "stdout",
     "output_type": "stream",
     "text": [
      "Shape 10\n",
      "True result: 0.400 |  Noised result: 0.611\n",
      "\n",
      "Shape 100\n",
      "True result: 0.490 |  Noised result: 0.475\n",
      "\n",
      "Shape 1000\n",
      "True result: 0.505 |  Noised result: 0.527\n",
      "\n",
      "Shape 10000\n",
      "True result: 0.492 |  Noised result: 0.464\n",
      "\n"
     ]
    }
   ],
   "source": [
    "for i, db in enumerate(dbs):\n",
    "    query(db, 0.1 * 2 ** i)"
   ]
  },
  {
   "cell_type": "code",
   "execution_count": null,
   "metadata": {},
   "outputs": [],
   "source": []
  },
  {
   "cell_type": "markdown",
   "metadata": {},
   "source": [
    "# Lesson: The Formal Definition of Differential Privacy\n",
    "\n",
    "The previous method of adding noise was called \"Local Differentail Privacy\" because we added noise to each datapoint individually. This is necessary for some situations wherein the data is SO sensitive that individuals do not trust noise to be added later. However, it comes at a very high cost in terms of accuracy. \n",
    "\n",
    "However, alternatively we can add noise AFTER data has been aggregated by a function. This kind of noise can allow for similar levels of protection with a lower affect on accuracy. However, participants must be able to trust that no-one looked at their datapoints _before_ the aggregation took place. In some situations this works out well, in others (such as an individual hand-surveying a group of people), this is less realistic.\n",
    "\n",
    "Nevertheless, global differential privacy is incredibly important because it allows us to perform differential privacy on smaller groups of individuals with lower amounts of noise. Let's revisit our sum functions."
   ]
  },
  {
   "cell_type": "code",
   "execution_count": 40,
   "metadata": {},
   "outputs": [
    {
     "data": {
      "text/plain": [
       "tensor(40.)"
      ]
     },
     "execution_count": 40,
     "metadata": {},
     "output_type": "execute_result"
    }
   ],
   "source": [
    "db, pdbs = create_db_and_parallels(100)\n",
    "\n",
    "def query(db):\n",
    "    return torch.sum(db.float())\n",
    "\n",
    "def M(db):\n",
    "    query(db) + noise\n",
    "\n",
    "query(db)"
   ]
  },
  {
   "cell_type": "markdown",
   "metadata": {},
   "source": [
    "So the idea here is that we want to add noise to the output of our function. We actually have two different kinds of noise we can add - Laplacian Noise or Gaussian Noise. However, before we do so at this point we need to dive into the formal definition of Differential Privacy.\n",
    "\n",
    "![alt text](dp_formula.png \"Title\")"
   ]
  },
  {
   "cell_type": "markdown",
   "metadata": {},
   "source": [
    "_Image From: \"The Algorithmic Foundations of Differential Privacy\" - Cynthia Dwork and Aaron Roth - https://www.cis.upenn.edu/~aaroth/Papers/privacybook.pdf_"
   ]
  },
  {
   "cell_type": "markdown",
   "metadata": {},
   "source": [
    "This definition does not _create_ differential privacy, instead it is a measure of how much privacy is afforded by a query M. Specifically, it's a comparison between running the query M on a database (x) and a parallel database (y). As you remember, parallel databases are defined to be the same as a full database (x) with one entry/person removed.\n",
    "\n",
    "Thus, this definition says that FOR ALL parallel databases, the maximum distance between a query on database (x) and the same query on database (y) will be e^epsilon, but that occasionally this constraint won't hold with probability delta. Thus, this theorem is called \"epsilon delta\" differential privacy.\n",
    "\n",
    "# Epsilon\n",
    "\n",
    "Let's unpack the intuition of this for a moment. \n",
    "\n",
    "Epsilon Zero: If a query satisfied this inequality where epsilon was set to 0, then that would mean that the query for all parallel databases outputed the exact same value as the full database. As you may remember, when we calculated the \"threshold\" function, often the Sensitivity was 0. In that case, the epsilon also happened to be zero.\n",
    "\n",
    "Epsilon One: If a query satisfied this inequality with epsilon 1, then the maximum distance between all queries would be 1 - or more precisely - the maximum distance between the two random distributions M(x) and M(y) is 1 (because all these queries have some amount of randomness in them, just like we observed in the last section).\n",
    "\n",
    "# Delta\n",
    "\n",
    "Delta is basically the probability that epsilon breaks. Namely, sometimes the epsilon is different for some queries than it is for others. For example, you may remember when we were calculating the sensitivity of threshold, most of the time sensitivity was 0 but sometimes it was 1. Thus, we could calculate this as \"epsilon zero but non-zero delta\" which would say that epsilon is perfect except for some probability of the time when it's arbitrarily higher. Note that this expression doesn't represent the full tradeoff between epsilon and delta."
   ]
  },
  {
   "cell_type": "markdown",
   "metadata": {},
   "source": [
    "# Lesson: How To Add Noise for Global Differential Privacy\n",
    "\n",
    "In this lesson, we're going to learn about how to take a query and add varying amounts of noise so that it satisfies a certain degree of differential privacy. In particular, we're going to leave behind the Local Differential privacy previously discussed and instead opt to focus on Global differential privacy. \n",
    "\n",
    "So, to sum up, this lesson is about adding noise to the output of our query so that it satisfies a certain epsilon-delta differential privacy threshold.\n",
    "\n",
    "There are two kinds of noise we can add - Gaussian Noise or Laplacian Noise. Generally speaking Laplacian is better, but both are still valid. Now to the hard question...\n",
    "\n",
    "### How much noise should we add?\n",
    "\n",
    "The amount of noise necessary to add to the output of a query is a function of four things:\n",
    "\n",
    "- the type of noise (Gaussian/Laplacian)\n",
    "- the sensitivity of the query/function\n",
    "- the desired epsilon (ε)\n",
    "- the desired delta (δ)\n",
    "\n",
    "Thus, for each type of noise we're adding, we have different way of calculating how much to add as a function of sensitivity, epsilon, and delta. We're going to focus on Laplacian noise. Laplacian noise is increased/decreased according to a \"scale\" parameter b. We choose \"b\" based on the following formula.\n",
    "\n",
    "b = sensitivity(query) / epsilon\n",
    "\n",
    "In other words, if we set b to be this value, then we know that we will have a privacy leakage of <= epsilon. Furthermore, the nice thing about Laplace is that it guarantees this with delta == 0. There are some tunings where we can have very low epsilon where delta is non-zero, but we'll ignore them for now.\n",
    "\n",
    "### Querying Repeatedly\n",
    "\n",
    "- if we query the database multiple times - we can simply add the epsilons (Even if we change the amount of noise and their epsilons are not the same)."
   ]
  },
  {
   "cell_type": "code",
   "execution_count": null,
   "metadata": {},
   "outputs": [],
   "source": []
  },
  {
   "cell_type": "markdown",
   "metadata": {},
   "source": [
    "# Project: Create a Differentially Private Query\n",
    "\n",
    "In this project, I want you to take what you learned in the previous lesson and create a query function which sums over the database and adds just the right amount of noise such that it satisfies an epsilon constraint. Write a query for both \"sum\" and for \"mean\". Ensure that you use the correct sensitivity measures for both."
   ]
  },
  {
   "cell_type": "code",
   "execution_count": 377,
   "metadata": {
    "lines_to_next_cell": 1
   },
   "outputs": [],
   "source": [
    "import numpy as np"
   ]
  },
  {
   "cell_type": "code",
   "execution_count": 430,
   "metadata": {},
   "outputs": [],
   "source": [
    "def laplacian_mechanism(db, query, sensitivity, epsilon=1):\n",
    "    \n",
    "    beta = sensitivity / epsilon\n",
    "    noise = torch.tensor(np.random.laplace(0, beta, 1))\n",
    "    \n",
    "    return query(db) + noise"
   ]
  },
  {
   "cell_type": "code",
   "execution_count": 397,
   "metadata": {},
   "outputs": [
    {
     "data": {
      "text/plain": [
       "tensor(52, dtype=torch.uint8)"
      ]
     },
     "execution_count": 397,
     "metadata": {},
     "output_type": "execute_result"
    }
   ],
   "source": [
    "sum(dbs[3])"
   ]
  },
  {
   "cell_type": "code",
   "execution_count": 431,
   "metadata": {},
   "outputs": [
    {
     "data": {
      "text/plain": [
       "tensor([51.5567], dtype=torch.float64)"
      ]
     },
     "execution_count": 431,
     "metadata": {},
     "output_type": "execute_result"
    }
   ],
   "source": [
    "laplacian_mechanism(dbs[3], sum, 1)"
   ]
  },
  {
   "cell_type": "code",
   "execution_count": 432,
   "metadata": {},
   "outputs": [
    {
     "data": {
      "text/plain": [
       "tensor([-8936.5336], dtype=torch.float64)"
      ]
     },
     "execution_count": 432,
     "metadata": {},
     "output_type": "execute_result"
    }
   ],
   "source": [
    "# bounces all around with low epsilon -> high plausible deniability\n",
    "laplacian_mechanism(dbs[3], sum, 1, epsilon=0.0001)"
   ]
  },
  {
   "cell_type": "code",
   "execution_count": 404,
   "metadata": {},
   "outputs": [
    {
     "data": {
      "text/plain": [
       "tensor(0.4916)"
      ]
     },
     "execution_count": 404,
     "metadata": {},
     "output_type": "execute_result"
    }
   ],
   "source": [
    "mean(dbs[3])"
   ]
  },
  {
   "cell_type": "code",
   "execution_count": 408,
   "metadata": {},
   "outputs": [
    {
     "data": {
      "text/plain": [
       "tensor([0.4914], dtype=torch.float64)"
      ]
     },
     "execution_count": 408,
     "metadata": {},
     "output_type": "execute_result"
    }
   ],
   "source": [
    "laplacian_mechanism(dbs[3], mean, 1/len(dbs[3]))"
   ]
  },
  {
   "cell_type": "markdown",
   "metadata": {},
   "source": [
    "# Lesson: Differential Privacy for Deep Learning\n",
    "\n",
    "So in the last lessons you may have been wondering - what does all of this have to do with Deep Learning? Well, these same techniques we were just studying form the core primitives for how Differential Privacy provides guarantees in the context of Deep Learning. \n",
    "\n",
    "Previously, we defined perfect privacy as \"a query to a database returns the same value even if we remove any person from the database\", and used this intuition in the description of epsilon/delta. In the context of deep learning we have a similar standard.\n",
    "\n",
    "Training a model on a dataset should return the same model even if we remove any person from the dataset.\n",
    "\n",
    "Thus, we've replaced \"querying a database\" with \"training a model on a dataset\". In essence, the training process is a kind of query. However, one should note that this adds two points of complexity which database queries did not have:\n",
    "\n",
    "    1. do we always know where \"people\" are referenced in the dataset?\n",
    "    2. neural models rarely never train to the same output model, even on identical data\n",
    "\n",
    "The answer to (1) is to treat each training example as a single, separate person. Strictly speaking, this is often overly zealous as some training examples have no relevance to people and others may have multiple/partial (consider an image with multiple people contained within it). Thus, localizing exactly where \"people\" are referenced, and thus how much your model would change if people were removed, is challenging.\n",
    "\n",
    "The answer to (2) is also an open problem - but several interesitng proposals have been made. We're going to focus on one of the most popular proposals, PATE.\n",
    "\n",
    "## An Example Scenario: A Health Neural Network\n",
    "\n",
    "First we're going to consider a scenario - you work for a hospital and you have a large collection of images about your patients. However, you don't know what's in them. You would like to use these images to develop a neural network which can automatically classify them, however since your images aren't labeled, they aren't sufficient to train a classifier. \n",
    "\n",
    "However, being a cunning strategist, you realize that you can reach out to 10 partner hospitals which DO have annotated data. It is your hope to train your new classifier on their datasets so that you can automatically label your own. While these hospitals are interested in helping, they have privacy concerns regarding information about their patients. Thus, you will use the following technique to train a classifier which protects the privacy of patients in the other hospitals.\n",
    "\n",
    "- 1) You'll ask each of the 10 hospitals to train a model on their own datasets (All of which have the same kinds of labels)\n",
    "- 2) You'll then use each of the 10 partner models to predict on your local dataset, generating 10 labels for each of your datapoints\n",
    "- 3) Then, for each local data point (now with 10 labels), you will perform a DP query to generate the final true label. This query is a \"max\" function, where \"max\" is the most frequent label across the 10 labels. We will need to add laplacian noise to make this Differentially Private to a certain epsilon/delta constraint.\n",
    "- 4) Finally, we will retrain a new model on our local dataset which now has labels. This will be our final \"DP\" model.\n",
    "\n",
    "So, let's walk through these steps. I will assume you're already familiar with how to train/predict a deep neural network, so we'll skip steps 1 and 2 and work with example data. We'll focus instead on step 3, namely how to perform the DP query for each example using toy data.\n",
    "\n",
    "So, let's say we have 10,000 training examples, and we've got 10 labels for each example (from our 10 \"teacher models\" which were trained directly on private data). Each label is chosen from a set of 10 possible labels (categories) for each image."
   ]
  },
  {
   "cell_type": "code",
   "execution_count": 4,
   "metadata": {},
   "outputs": [],
   "source": [
    "import numpy as np"
   ]
  },
  {
   "cell_type": "code",
   "execution_count": 434,
   "metadata": {},
   "outputs": [],
   "source": [
    "num_teachers = 10 # we're working with 10 partner hospitals\n",
    "num_examples = 10000 # the size of OUR dataset\n",
    "num_labels = 10 # number of lablels for our classifier"
   ]
  },
  {
   "cell_type": "code",
   "execution_count": 435,
   "metadata": {},
   "outputs": [],
   "source": [
    "preds = (np.random.rand(num_teachers, num_examples) * num_labels).astype(int).transpose(1,0) # fake predictions"
   ]
  },
  {
   "cell_type": "code",
   "execution_count": 436,
   "metadata": {},
   "outputs": [],
   "source": [
    "new_labels = list()\n",
    "for an_image in preds:\n",
    "\n",
    "    label_counts = np.bincount(an_image, minlength=num_labels)\n",
    "\n",
    "    epsilon = 0.1\n",
    "    beta = 1 / epsilon\n",
    "\n",
    "    for i in range(len(label_counts)):\n",
    "        label_counts[i] += np.random.laplace(0, beta, 1)\n",
    "\n",
    "    new_label = np.argmax(label_counts)\n",
    "    \n",
    "    new_labels.append(new_label)"
   ]
  },
  {
   "cell_type": "code",
   "execution_count": 440,
   "metadata": {},
   "outputs": [
    {
     "data": {
      "text/plain": [
       "[2,\n",
       " 1,\n",
       " 6,\n",
       " 6,\n",
       " 3,\n",
       " 5,\n",
       " 2,\n",
       " 3,\n",
       " 0,\n",
       " 6,\n",
       " 7,\n",
       " 3,\n",
       " 6,\n",
       " 1,\n",
       " 8,\n",
       " 1,\n",
       " 0,\n",
       " 1,\n",
       " 0,\n",
       " 3,\n",
       " 9,\n",
       " 1,\n",
       " 7,\n",
       " 1,\n",
       " 0,\n",
       " 1,\n",
       " 9,\n",
       " 7,\n",
       " 1,\n",
       " 8,\n",
       " 5,\n",
       " 4,\n",
       " 2,\n",
       " 4,\n",
       " 6,\n",
       " 7,\n",
       " 1,\n",
       " 7,\n",
       " 0,\n",
       " 8,\n",
       " 1,\n",
       " 1,\n",
       " 2,\n",
       " 0,\n",
       " 5,\n",
       " 5,\n",
       " 3,\n",
       " 5,\n",
       " 3,\n",
       " 5,\n",
       " 3,\n",
       " 3,\n",
       " 6,\n",
       " 7,\n",
       " 0,\n",
       " 1,\n",
       " 5,\n",
       " 3,\n",
       " 4,\n",
       " 0,\n",
       " 8,\n",
       " 5,\n",
       " 5,\n",
       " 8,\n",
       " 1,\n",
       " 3,\n",
       " 1,\n",
       " 1,\n",
       " 5,\n",
       " 3,\n",
       " 1,\n",
       " 5,\n",
       " 9,\n",
       " 1,\n",
       " 1,\n",
       " 3,\n",
       " 7,\n",
       " 8,\n",
       " 4,\n",
       " 1,\n",
       " 5,\n",
       " 5,\n",
       " 1,\n",
       " 1,\n",
       " 9,\n",
       " 4,\n",
       " 3,\n",
       " 0,\n",
       " 2,\n",
       " 8,\n",
       " 3,\n",
       " 2,\n",
       " 5,\n",
       " 4,\n",
       " 7,\n",
       " 0,\n",
       " 2,\n",
       " 4,\n",
       " 8,\n",
       " 3,\n",
       " 1,\n",
       " 2,\n",
       " 2,\n",
       " 7,\n",
       " 1,\n",
       " 2,\n",
       " 2,\n",
       " 1,\n",
       " 1,\n",
       " 2,\n",
       " 5,\n",
       " 0,\n",
       " 9,\n",
       " 6,\n",
       " 6,\n",
       " 6,\n",
       " 9,\n",
       " 6,\n",
       " 7,\n",
       " 1,\n",
       " 6,\n",
       " 1,\n",
       " 0,\n",
       " 4,\n",
       " 1,\n",
       " 9,\n",
       " 9,\n",
       " 7,\n",
       " 8,\n",
       " 0,\n",
       " 9,\n",
       " 1,\n",
       " 7,\n",
       " 1,\n",
       " 1,\n",
       " 8,\n",
       " 7,\n",
       " 6,\n",
       " 9,\n",
       " 0,\n",
       " 4,\n",
       " 8,\n",
       " 8,\n",
       " 5,\n",
       " 4,\n",
       " 7,\n",
       " 2,\n",
       " 0,\n",
       " 3,\n",
       " 6,\n",
       " 8,\n",
       " 4,\n",
       " 3,\n",
       " 4,\n",
       " 0,\n",
       " 9,\n",
       " 1,\n",
       " 9,\n",
       " 7,\n",
       " 2,\n",
       " 3,\n",
       " 1,\n",
       " 2,\n",
       " 8,\n",
       " 9,\n",
       " 8,\n",
       " 7,\n",
       " 4,\n",
       " 4,\n",
       " 7,\n",
       " 0,\n",
       " 9,\n",
       " 7,\n",
       " 0,\n",
       " 5,\n",
       " 4,\n",
       " 5,\n",
       " 1,\n",
       " 4,\n",
       " 6,\n",
       " 6,\n",
       " 9,\n",
       " 5,\n",
       " 5,\n",
       " 7,\n",
       " 8,\n",
       " 8,\n",
       " 6,\n",
       " 0,\n",
       " 3,\n",
       " 7,\n",
       " 8,\n",
       " 2,\n",
       " 1,\n",
       " 1,\n",
       " 9,\n",
       " 2,\n",
       " 5,\n",
       " 8,\n",
       " 4,\n",
       " 3,\n",
       " 9,\n",
       " 1,\n",
       " 6,\n",
       " 6,\n",
       " 8,\n",
       " 5,\n",
       " 1,\n",
       " 7,\n",
       " 9,\n",
       " 4,\n",
       " 4,\n",
       " 2,\n",
       " 9,\n",
       " 7,\n",
       " 4,\n",
       " 2,\n",
       " 8,\n",
       " 6,\n",
       " 4,\n",
       " 5,\n",
       " 5,\n",
       " 6,\n",
       " 8,\n",
       " 9,\n",
       " 7,\n",
       " 9,\n",
       " 9,\n",
       " 8,\n",
       " 2,\n",
       " 2,\n",
       " 4,\n",
       " 4,\n",
       " 1,\n",
       " 8,\n",
       " 1,\n",
       " 8,\n",
       " 3,\n",
       " 3,\n",
       " 2,\n",
       " 4,\n",
       " 4,\n",
       " 3,\n",
       " 9,\n",
       " 7,\n",
       " 2,\n",
       " 1,\n",
       " 8,\n",
       " 0,\n",
       " 2,\n",
       " 5,\n",
       " 7,\n",
       " 9,\n",
       " 6,\n",
       " 1,\n",
       " 0,\n",
       " 3,\n",
       " 9,\n",
       " 2,\n",
       " 4,\n",
       " 2,\n",
       " 8,\n",
       " 7,\n",
       " 2,\n",
       " 2,\n",
       " 4,\n",
       " 0,\n",
       " 0,\n",
       " 0,\n",
       " 2,\n",
       " 7,\n",
       " 5,\n",
       " 3,\n",
       " 5,\n",
       " 2,\n",
       " 4,\n",
       " 9,\n",
       " 0,\n",
       " 3,\n",
       " 1,\n",
       " 1,\n",
       " 7,\n",
       " 0,\n",
       " 1,\n",
       " 4,\n",
       " 4,\n",
       " 8,\n",
       " 5,\n",
       " 7,\n",
       " 9,\n",
       " 5,\n",
       " 6,\n",
       " 1,\n",
       " 9,\n",
       " 2,\n",
       " 8,\n",
       " 9,\n",
       " 2,\n",
       " 3,\n",
       " 1,\n",
       " 9,\n",
       " 8,\n",
       " 5,\n",
       " 5,\n",
       " 2,\n",
       " 1,\n",
       " 1,\n",
       " 3,\n",
       " 5,\n",
       " 9,\n",
       " 9,\n",
       " 8,\n",
       " 9,\n",
       " 8,\n",
       " 6,\n",
       " 5,\n",
       " 4,\n",
       " 1,\n",
       " 6,\n",
       " 5,\n",
       " 2,\n",
       " 2,\n",
       " 0,\n",
       " 7,\n",
       " 4,\n",
       " 4,\n",
       " 9,\n",
       " 9,\n",
       " 2,\n",
       " 4,\n",
       " 8,\n",
       " 6,\n",
       " 9,\n",
       " 2,\n",
       " 7,\n",
       " 6,\n",
       " 4,\n",
       " 5,\n",
       " 1,\n",
       " 0,\n",
       " 8,\n",
       " 3,\n",
       " 6,\n",
       " 3,\n",
       " 6,\n",
       " 3,\n",
       " 1,\n",
       " 7,\n",
       " 0,\n",
       " 4,\n",
       " 2,\n",
       " 7,\n",
       " 2,\n",
       " 2,\n",
       " 5,\n",
       " 6,\n",
       " 8,\n",
       " 7,\n",
       " 3,\n",
       " 4,\n",
       " 0,\n",
       " 2,\n",
       " 2,\n",
       " 8,\n",
       " 6,\n",
       " 2,\n",
       " 3,\n",
       " 2,\n",
       " 1,\n",
       " 9,\n",
       " 9,\n",
       " 4,\n",
       " 4,\n",
       " 2,\n",
       " 6,\n",
       " 1,\n",
       " 6,\n",
       " 9,\n",
       " 0,\n",
       " 6,\n",
       " 6,\n",
       " 6,\n",
       " 1,\n",
       " 6,\n",
       " 1,\n",
       " 9,\n",
       " 9,\n",
       " 1,\n",
       " 1,\n",
       " 0,\n",
       " 0,\n",
       " 2,\n",
       " 2,\n",
       " 3,\n",
       " 0,\n",
       " 4,\n",
       " 3,\n",
       " 5,\n",
       " 0,\n",
       " 8,\n",
       " 9,\n",
       " 8,\n",
       " 5,\n",
       " 2,\n",
       " 6,\n",
       " 4,\n",
       " 8,\n",
       " 0,\n",
       " 4,\n",
       " 7,\n",
       " 9,\n",
       " 6,\n",
       " 4,\n",
       " 1,\n",
       " 6,\n",
       " 4,\n",
       " 1,\n",
       " 1,\n",
       " 4,\n",
       " 1,\n",
       " 6,\n",
       " 2,\n",
       " 3,\n",
       " 2,\n",
       " 7,\n",
       " 3,\n",
       " 2,\n",
       " 0,\n",
       " 7,\n",
       " 0,\n",
       " 5,\n",
       " 7,\n",
       " 2,\n",
       " 7,\n",
       " 3,\n",
       " 5,\n",
       " 6,\n",
       " 4,\n",
       " 2,\n",
       " 5,\n",
       " 3,\n",
       " 4,\n",
       " 0,\n",
       " 5,\n",
       " 5,\n",
       " 3,\n",
       " 1,\n",
       " 5,\n",
       " 3,\n",
       " 5,\n",
       " 4,\n",
       " 0,\n",
       " 2,\n",
       " 0,\n",
       " 7,\n",
       " 2,\n",
       " 0,\n",
       " 2,\n",
       " 0,\n",
       " 2,\n",
       " 5,\n",
       " 3,\n",
       " 9,\n",
       " 6,\n",
       " 2,\n",
       " 8,\n",
       " 4,\n",
       " 8,\n",
       " 5,\n",
       " 8,\n",
       " 2,\n",
       " 7,\n",
       " 3,\n",
       " 6,\n",
       " 2,\n",
       " 5,\n",
       " 8,\n",
       " 6,\n",
       " 2,\n",
       " 2,\n",
       " 0,\n",
       " 6,\n",
       " 0,\n",
       " 0,\n",
       " 3,\n",
       " 5,\n",
       " 7,\n",
       " 7,\n",
       " 9,\n",
       " 3,\n",
       " 6,\n",
       " 5,\n",
       " 5,\n",
       " 9,\n",
       " 7,\n",
       " 1,\n",
       " 1,\n",
       " 3,\n",
       " 5,\n",
       " 3,\n",
       " 8,\n",
       " 9,\n",
       " 5,\n",
       " 1,\n",
       " 4,\n",
       " 2,\n",
       " 7,\n",
       " 2,\n",
       " 5,\n",
       " 5,\n",
       " 1,\n",
       " 6,\n",
       " 9,\n",
       " 7,\n",
       " 5,\n",
       " 1,\n",
       " 2,\n",
       " 9,\n",
       " 8,\n",
       " 4,\n",
       " 1,\n",
       " 3,\n",
       " 1,\n",
       " 8,\n",
       " 9,\n",
       " 8,\n",
       " 9,\n",
       " 2,\n",
       " 2,\n",
       " 0,\n",
       " 3,\n",
       " 5,\n",
       " 7,\n",
       " 6,\n",
       " 3,\n",
       " 7,\n",
       " 4,\n",
       " 0,\n",
       " 8,\n",
       " 1,\n",
       " 2,\n",
       " 0,\n",
       " 0,\n",
       " 3,\n",
       " 6,\n",
       " 5,\n",
       " 8,\n",
       " 4,\n",
       " 2,\n",
       " 6,\n",
       " 0,\n",
       " 2,\n",
       " 7,\n",
       " 6,\n",
       " 1,\n",
       " 9,\n",
       " 1,\n",
       " 1,\n",
       " 0,\n",
       " 2,\n",
       " 3,\n",
       " 1,\n",
       " 3,\n",
       " 1,\n",
       " 9,\n",
       " 9,\n",
       " 7,\n",
       " 1,\n",
       " 2,\n",
       " 9,\n",
       " 0,\n",
       " 4,\n",
       " 2,\n",
       " 6,\n",
       " 0,\n",
       " 0,\n",
       " 5,\n",
       " 1,\n",
       " 8,\n",
       " 8,\n",
       " 4,\n",
       " 8,\n",
       " 5,\n",
       " 7,\n",
       " 2,\n",
       " 0,\n",
       " 6,\n",
       " 0,\n",
       " 3,\n",
       " 8,\n",
       " 8,\n",
       " 7,\n",
       " 5,\n",
       " 0,\n",
       " 0,\n",
       " 2,\n",
       " 8,\n",
       " 2,\n",
       " 7,\n",
       " 4,\n",
       " 9,\n",
       " 4,\n",
       " 5,\n",
       " 5,\n",
       " 1,\n",
       " 9,\n",
       " 3,\n",
       " 3,\n",
       " 5,\n",
       " 3,\n",
       " 2,\n",
       " 7,\n",
       " 9,\n",
       " 8,\n",
       " 4,\n",
       " 0,\n",
       " 6,\n",
       " 9,\n",
       " 5,\n",
       " 3,\n",
       " 8,\n",
       " 8,\n",
       " 3,\n",
       " 0,\n",
       " 2,\n",
       " 1,\n",
       " 5,\n",
       " 0,\n",
       " 0,\n",
       " 3,\n",
       " 2,\n",
       " 5,\n",
       " 4,\n",
       " 0,\n",
       " 8,\n",
       " 9,\n",
       " 0,\n",
       " 1,\n",
       " 4,\n",
       " 0,\n",
       " 4,\n",
       " 5,\n",
       " 8,\n",
       " 4,\n",
       " 4,\n",
       " 3,\n",
       " 2,\n",
       " 6,\n",
       " 2,\n",
       " 4,\n",
       " 3,\n",
       " 1,\n",
       " 6,\n",
       " 9,\n",
       " 8,\n",
       " 4,\n",
       " 0,\n",
       " 9,\n",
       " 7,\n",
       " 6,\n",
       " 0,\n",
       " 1,\n",
       " 7,\n",
       " 8,\n",
       " 9,\n",
       " 7,\n",
       " 4,\n",
       " 2,\n",
       " 7,\n",
       " 0,\n",
       " 9,\n",
       " 8,\n",
       " 0,\n",
       " 8,\n",
       " 1,\n",
       " 9,\n",
       " 3,\n",
       " 2,\n",
       " 0,\n",
       " 0,\n",
       " 6,\n",
       " 5,\n",
       " 0,\n",
       " 5,\n",
       " 6,\n",
       " 4,\n",
       " 4,\n",
       " 9,\n",
       " 6,\n",
       " 3,\n",
       " 1,\n",
       " 0,\n",
       " 8,\n",
       " 6,\n",
       " 4,\n",
       " 6,\n",
       " 2,\n",
       " 6,\n",
       " 5,\n",
       " 9,\n",
       " 4,\n",
       " 2,\n",
       " 3,\n",
       " 5,\n",
       " 5,\n",
       " 2,\n",
       " 8,\n",
       " 2,\n",
       " 6,\n",
       " 1,\n",
       " 8,\n",
       " 3,\n",
       " 5,\n",
       " 3,\n",
       " 3,\n",
       " 8,\n",
       " 0,\n",
       " 7,\n",
       " 7,\n",
       " 9,\n",
       " 4,\n",
       " 7,\n",
       " 8,\n",
       " 1,\n",
       " 6,\n",
       " 5,\n",
       " 0,\n",
       " 6,\n",
       " 1,\n",
       " 6,\n",
       " 3,\n",
       " 9,\n",
       " 8,\n",
       " 5,\n",
       " 0,\n",
       " 7,\n",
       " 8,\n",
       " 6,\n",
       " 1,\n",
       " 0,\n",
       " 0,\n",
       " 0,\n",
       " 8,\n",
       " 7,\n",
       " 1,\n",
       " 9,\n",
       " 3,\n",
       " 6,\n",
       " 2,\n",
       " 0,\n",
       " 8,\n",
       " 7,\n",
       " 4,\n",
       " 6,\n",
       " 1,\n",
       " 8,\n",
       " 2,\n",
       " 6,\n",
       " 7,\n",
       " 4,\n",
       " 5,\n",
       " 2,\n",
       " 8,\n",
       " 0,\n",
       " 4,\n",
       " 0,\n",
       " 6,\n",
       " 3,\n",
       " 9,\n",
       " 9,\n",
       " 5,\n",
       " 3,\n",
       " 0,\n",
       " 1,\n",
       " 3,\n",
       " 2,\n",
       " 7,\n",
       " 7,\n",
       " 9,\n",
       " 9,\n",
       " 5,\n",
       " 5,\n",
       " 1,\n",
       " 0,\n",
       " 8,\n",
       " 2,\n",
       " 1,\n",
       " 2,\n",
       " 0,\n",
       " 6,\n",
       " 2,\n",
       " 8,\n",
       " 0,\n",
       " 9,\n",
       " 0,\n",
       " 5,\n",
       " 5,\n",
       " 5,\n",
       " 8,\n",
       " 5,\n",
       " 8,\n",
       " 9,\n",
       " 3,\n",
       " 9,\n",
       " 3,\n",
       " 7,\n",
       " 6,\n",
       " 2,\n",
       " 3,\n",
       " 0,\n",
       " 4,\n",
       " 0,\n",
       " 1,\n",
       " 1,\n",
       " 6,\n",
       " 1,\n",
       " 3,\n",
       " 8,\n",
       " 8,\n",
       " 1,\n",
       " 9,\n",
       " 5,\n",
       " 2,\n",
       " 4,\n",
       " 7,\n",
       " 5,\n",
       " 8,\n",
       " 9,\n",
       " 1,\n",
       " 3,\n",
       " 1,\n",
       " 4,\n",
       " 1,\n",
       " 5,\n",
       " 0,\n",
       " 8,\n",
       " 4,\n",
       " 7,\n",
       " 8,\n",
       " 5,\n",
       " 2,\n",
       " 5,\n",
       " 9,\n",
       " 6,\n",
       " 9,\n",
       " 9,\n",
       " 5,\n",
       " 4,\n",
       " 4,\n",
       " 7,\n",
       " 7,\n",
       " 8,\n",
       " 6,\n",
       " 3,\n",
       " 1,\n",
       " 3,\n",
       " 3,\n",
       " 7,\n",
       " 3,\n",
       " 4,\n",
       " 8,\n",
       " 2,\n",
       " 1,\n",
       " 9,\n",
       " 3,\n",
       " 1,\n",
       " 0,\n",
       " 9,\n",
       " 9,\n",
       " 5,\n",
       " 5,\n",
       " 5,\n",
       " 3,\n",
       " 5,\n",
       " 5,\n",
       " 8,\n",
       " 1,\n",
       " 8,\n",
       " 4,\n",
       " 0,\n",
       " 9,\n",
       " 8,\n",
       " 5,\n",
       " 7,\n",
       " 7,\n",
       " 4,\n",
       " 4,\n",
       " 5,\n",
       " 5,\n",
       " 4,\n",
       " 2,\n",
       " 9,\n",
       " 7,\n",
       " 6,\n",
       " 7,\n",
       " 3,\n",
       " 7,\n",
       " 9,\n",
       " 5,\n",
       " 2,\n",
       " 3,\n",
       " 0,\n",
       " 0,\n",
       " 3,\n",
       " 9,\n",
       " 5,\n",
       " 7,\n",
       " 4,\n",
       " 7,\n",
       " 0,\n",
       " 4,\n",
       " 2,\n",
       " 6,\n",
       " 4,\n",
       " 8,\n",
       " 1,\n",
       " 1,\n",
       " 9,\n",
       " 3,\n",
       " 4,\n",
       " 2,\n",
       " 1,\n",
       " 9,\n",
       " 2,\n",
       " 4,\n",
       " 7,\n",
       " 9,\n",
       " 0,\n",
       " 5,\n",
       " 4,\n",
       " 8,\n",
       " 6,\n",
       " 0,\n",
       " 5,\n",
       " 5,\n",
       " 6,\n",
       " 3,\n",
       " 4,\n",
       " 0,\n",
       " 3,\n",
       " 5,\n",
       " 6,\n",
       " 2,\n",
       " 5,\n",
       " 8,\n",
       " 7,\n",
       " 7,\n",
       " 6,\n",
       " 3,\n",
       " 5,\n",
       " 6,\n",
       " 9,\n",
       " 0,\n",
       " 3,\n",
       " 3,\n",
       " 8,\n",
       " 6,\n",
       " 2,\n",
       " 2,\n",
       " 5,\n",
       " 4,\n",
       " 2,\n",
       " 4,\n",
       " 6,\n",
       " 6,\n",
       " 8,\n",
       " 0,\n",
       " 8,\n",
       " 0,\n",
       " 8,\n",
       " 3,\n",
       " 1,\n",
       " 3,\n",
       " 2,\n",
       " 1,\n",
       " 6,\n",
       " 6,\n",
       " 7,\n",
       " 4,\n",
       " 9,\n",
       " 3,\n",
       " 3,\n",
       " 3,\n",
       " 4,\n",
       " 3,\n",
       " 9,\n",
       " 2,\n",
       " 7,\n",
       " 4,\n",
       " 5,\n",
       " 3,\n",
       " 5,\n",
       " 9,\n",
       " 5,\n",
       " 3,\n",
       " 6,\n",
       " 2,\n",
       " 2,\n",
       " 3,\n",
       " 4,\n",
       " ...]"
      ]
     },
     "execution_count": 440,
     "metadata": {},
     "output_type": "execute_result"
    }
   ],
   "source": [
    "new_labels"
   ]
  },
  {
   "cell_type": "markdown",
   "metadata": {},
   "source": [
    "# PATE Analysis"
   ]
  },
  {
   "cell_type": "code",
   "execution_count": 441,
   "metadata": {},
   "outputs": [
    {
     "data": {
      "text/plain": [
       "9"
      ]
     },
     "execution_count": 441,
     "metadata": {},
     "output_type": "execute_result"
    }
   ],
   "source": [
    "labels = np.array([9, 9, 3, 6, 9, 9, 9, 9, 8, 2])\n",
    "counts = np.bincount(labels, minlength=10)\n",
    "query_result = np.argmax(counts)\n",
    "query_result"
   ]
  },
  {
   "cell_type": "code",
   "execution_count": 442,
   "metadata": {},
   "outputs": [
    {
     "name": "stderr",
     "output_type": "stream",
     "text": [
      "Falling back to insecure randomness since the required custom op could not be found for the installed version of TensorFlow. Fix this by compiling custom ops. Missing file was '/home/allison/anaconda3/lib/python3.7/site-packages/tf_encrypted/operations/secure_random/secure_random_module_tf_1.15.0.so'\n"
     ]
    },
    {
     "name": "stdout",
     "output_type": "stream",
     "text": [
      "WARNING:tensorflow:From /home/allison/anaconda3/lib/python3.7/site-packages/tf_encrypted/session.py:24: The name tf.Session is deprecated. Please use tf.compat.v1.Session instead.\n",
      "\n"
     ]
    }
   ],
   "source": [
    "from syft.frameworks.torch.differential_privacy import pate"
   ]
  },
  {
   "cell_type": "code",
   "execution_count": 18,
   "metadata": {
    "lines_to_end_of_cell_marker": 2
   },
   "outputs": [
    {
     "name": "stdout",
     "output_type": "stream",
     "text": [
      "(100, 100)\n",
      "Data Independent Epsilon: 11.756462732485115\n",
      "Data Dependent Epsilon: 11.756462732485105\n"
     ]
    }
   ],
   "source": [
    "num_teachers, num_examples, num_labels = (100, 100, 10)\n",
    "preds = (np.random.rand(num_teachers, num_examples) * num_labels).astype(int) #fake preds\n",
    "print(preds.shape)\n",
    "indices = (np.random.rand(num_examples) * num_labels).astype(int) # true answers\n",
    "\n",
    "data_dep_eps, data_ind_eps = pate.perform_analysis(teacher_preds=preds, indices=indices, noise_eps=0.1, delta=1e-5)\n",
    "\n",
    "assert data_dep_eps < data_ind_eps\n",
    "print(\"Data Independent Epsilon:\", data_ind_eps)\n",
    "print(\"Data Dependent Epsilon:\", data_dep_eps)"
   ]
  },
  {
   "cell_type": "code",
   "execution_count": 17,
   "metadata": {},
   "outputs": [
    {
     "name": "stdout",
     "output_type": "stream",
     "text": [
      "Warning: May not have used enough values of l. Increase 'moments' variable and run again.\n",
      "Data Independent Epsilon: 11.756462732485115\n",
      "Data Dependent Epsilon: 1.52655213289881\n"
     ]
    }
   ],
   "source": [
    "preds[:,0:10] *= 0\n",
    "data_dep_eps, data_ind_eps = pate.perform_analysis(teacher_preds=preds, indices=indices, noise_eps=0.1, delta=1e-5)\n",
    "print(\"Data Independent Epsilon:\", data_ind_eps)\n",
    "print(\"Data Dependent Epsilon:\", data_dep_eps)"
   ]
  },
  {
   "cell_type": "code",
   "execution_count": 65,
   "metadata": {},
   "outputs": [],
   "source": [
    "preds[:,0:50] *= 0"
   ]
  },
  {
   "cell_type": "code",
   "execution_count": 66,
   "metadata": {},
   "outputs": [
    {
     "name": "stdout",
     "output_type": "stream",
     "text": [
      "Data Independent Epsilon: 11.756462732485115\n",
      "Data Dependent Epsilon: 0.9029013677789843\n"
     ]
    }
   ],
   "source": [
    "data_dep_eps, data_ind_eps = pate.perform_analysis(teacher_preds=preds, indices=indices, noise_eps=0.1, delta=1e-5, moments=20)\n",
    "print(\"Data Independent Epsilon:\", data_ind_eps)\n",
    "print(\"Data Dependent Epsilon:\", data_dep_eps)"
   ]
  },
  {
   "cell_type": "code",
   "execution_count": null,
   "metadata": {},
   "outputs": [],
   "source": []
  },
  {
   "cell_type": "markdown",
   "metadata": {},
   "source": [
    "# Where to Go From Here\n",
    "\n",
    "\n",
    "Read:\n",
    "    - Algorithmic Foundations of Differential Privacy: https://www.cis.upenn.edu/~aaroth/Papers/privacybook.pdf\n",
    "    - Deep Learning with Differential Privacy: https://arxiv.org/pdf/1607.00133.pdf\n",
    "    - The Ethical Algorithm: https://www.amazon.com/Ethical-Algorithm-Science-Socially-Design/dp/0190948205\n",
    "   \n",
    "Topics:\n",
    "    - The Exponential Mechanism\n",
    "    - The Moment's Accountant\n",
    "    - Differentially Private Stochastic Gradient Descent\n",
    "\n",
    "Advice:\n",
    "    - For deployments - stick with public frameworks!\n",
    "    - Join the Differential Privacy Community\n",
    "    - Don't get ahead of yourself - DP is still in the early days"
   ]
  },
  {
   "cell_type": "code",
   "execution_count": null,
   "metadata": {},
   "outputs": [],
   "source": []
  },
  {
   "cell_type": "code",
   "execution_count": null,
   "metadata": {},
   "outputs": [],
   "source": []
  },
  {
   "cell_type": "markdown",
   "metadata": {},
   "source": [
    "# Section Project:\n",
    "\n",
    "For the final project for this section, you're going to train a DP model using this PATE method on the MNIST dataset, provided below."
   ]
  },
  {
   "cell_type": "code",
   "execution_count": 5,
   "metadata": {
    "lines_to_next_cell": 2
   },
   "outputs": [
    {
     "name": "stderr",
     "output_type": "stream",
     "text": [
      "/home/allison/anaconda3/lib/python3.7/site-packages/torchvision/datasets/mnist.py:53: UserWarning: train_data has been renamed data\n",
      "  warnings.warn(\"train_data has been renamed data\")\n",
      "/home/allison/anaconda3/lib/python3.7/site-packages/torchvision/datasets/mnist.py:43: UserWarning: train_labels has been renamed targets\n",
      "  warnings.warn(\"train_labels has been renamed targets\")\n",
      "/home/allison/anaconda3/lib/python3.7/site-packages/torchvision/datasets/mnist.py:58: UserWarning: test_data has been renamed data\n",
      "  warnings.warn(\"test_data has been renamed data\")\n",
      "/home/allison/anaconda3/lib/python3.7/site-packages/torchvision/datasets/mnist.py:48: UserWarning: test_labels has been renamed targets\n",
      "  warnings.warn(\"test_labels has been renamed targets\")\n"
     ]
    }
   ],
   "source": [
    "import torch\n",
    "from torchvision import datasets\n",
    "from torchvision import transforms\n",
    "\n",
    "transform = transforms.Compose([transforms.ToTensor()])\n",
    "\n",
    "mnist_trainset = datasets.MNIST(root='./data', train=True, download=True, transform=transform)\n",
    "trainloader = torch.utils.data.DataLoader(mnist_trainset, batch_size=64, shuffle=True)\n",
    "\n",
    "train_data = mnist_trainset.train_data\n",
    "train_targets = mnist_trainset.train_labels\n",
    "\n",
    "test_data = mnist_trainset.test_data\n",
    "test_targets = mnist_trainset.test_labels\n",
    "mnist_testset = datasets.MNIST(root='./data', download=True, train=False, transform=transform)\n",
    "testloader = torch.utils.data.DataLoader(mnist_testset, batch_size=64, shuffle=True)"
   ]
  },
  {
   "cell_type": "code",
   "execution_count": 6,
   "metadata": {},
   "outputs": [],
   "source": [
    "from torch import nn, optim\n",
    "import torch.nn.functional as F\n",
    "\n",
    "class Classifier(nn.Module):\n",
    "    def __init__(self):\n",
    "        super().__init__()\n",
    "        self.fc1 = nn.Linear(784, 256)\n",
    "        self.fc2 = nn.Linear(256, 128)\n",
    "        self.fc3 = nn.Linear(128, 64)\n",
    "        self.fc4 = nn.Linear(64, 10)\n",
    "\n",
    "        # dropout with 20% probability\n",
    "        self.dropout = nn.Dropout(p=0.2)\n",
    "\n",
    "    def forward(self, x):\n",
    "        # flatten\n",
    "        x = x.view(x.shape[0], -1)\n",
    "\n",
    "        x = F.relu(self.fc1(x))\n",
    "        x = F.relu(self.fc2(x))\n",
    "        x = F.relu(self.fc3(x))\n",
    "        x = F.log_softmax(self.fc4(x), dim=1)\n",
    "\n",
    "        return x"
   ]
  },
  {
   "cell_type": "code",
   "execution_count": 7,
   "metadata": {},
   "outputs": [],
   "source": [
    "def train_model(model, epochs, verbose=False):\n",
    "    criterion = nn.NLLLoss()\n",
    "    optimizer = optim.Adam(model.parameters(), lr=0.003)\n",
    "    train_losses, test_losses = [], []\n",
    "\n",
    "    for e in range(epochs):\n",
    "        running_loss = 0\n",
    "        for images, labels in trainloader:\n",
    "            optimizer.zero_grad()\n",
    "\n",
    "            log_ps = model(images)\n",
    "            loss = criterion(log_ps, labels)\n",
    "            running_loss += loss.item()\n",
    "\n",
    "            loss.backward()\n",
    "            optimizer.step()\n",
    "\n",
    "        else:\n",
    "            test_loss = 0\n",
    "            accuracy = 0\n",
    "\n",
    "            with torch.no_grad():\n",
    "                model.eval()\n",
    "                for images, labels in testloader:\n",
    "                    log_ps = model(images)\n",
    "                    test_loss += criterion(log_ps, labels)\n",
    "                    \n",
    "                    ps = torch.exp(log_ps)\n",
    "                    top_p, top_class = ps.topk(1, dim=1)\n",
    "                    equals = top_class == labels.view(*top_class.shape)\n",
    "                    accuracy += torch.mean(equals.float())\n",
    "\n",
    "            model.train()\n",
    "            \n",
    "            train_losses.append(running_loss / len(trainloader))\n",
    "            test_losses.append(test_loss / len(testloader))\n",
    "            if verbose or e == (epochs - 1):\n",
    "                print(\"Epoch: {:0>2d}/{:0>2d} | \".format(e+1, epochs),\n",
    "                      \"Training Loss: {:.3f} | \".format(running_loss/len(trainloader)),\n",
    "                      \"Test Loss: {:.3f} | \".format(test_loss/len(testloader)),\n",
    "                      \"Test Accuracy: {:.3f}\".format(accuracy/len(testloader)))"
   ]
  },
  {
   "cell_type": "code",
   "execution_count": 15,
   "metadata": {
    "lines_to_next_cell": 2
   },
   "outputs": [
    {
     "name": "stdout",
     "output_type": "stream",
     "text": [
      "Epoch: 01/30 |  Training Loss: 0.244 |  Test Loss: 0.133 |  Test Accuracy: 0.960\n",
      "Epoch: 02/30 |  Training Loss: 0.102 |  Test Loss: 0.106 |  Test Accuracy: 0.968\n",
      "Epoch: 03/30 |  Training Loss: 0.076 |  Test Loss: 0.110 |  Test Accuracy: 0.970\n",
      "Epoch: 04/30 |  Training Loss: 0.065 |  Test Loss: 0.080 |  Test Accuracy: 0.976\n",
      "Epoch: 05/30 |  Training Loss: 0.050 |  Test Loss: 0.092 |  Test Accuracy: 0.977\n",
      "Epoch: 06/30 |  Training Loss: 0.042 |  Test Loss: 0.120 |  Test Accuracy: 0.970\n",
      "Epoch: 07/30 |  Training Loss: 0.040 |  Test Loss: 0.100 |  Test Accuracy: 0.976\n",
      "Epoch: 08/30 |  Training Loss: 0.037 |  Test Loss: 0.104 |  Test Accuracy: 0.976\n",
      "Epoch: 09/30 |  Training Loss: 0.033 |  Test Loss: 0.111 |  Test Accuracy: 0.978\n",
      "Epoch: 10/30 |  Training Loss: 0.030 |  Test Loss: 0.100 |  Test Accuracy: 0.979\n",
      "Epoch: 11/30 |  Training Loss: 0.027 |  Test Loss: 0.124 |  Test Accuracy: 0.976\n",
      "Epoch: 12/30 |  Training Loss: 0.026 |  Test Loss: 0.105 |  Test Accuracy: 0.979\n",
      "Epoch: 13/30 |  Training Loss: 0.026 |  Test Loss: 0.114 |  Test Accuracy: 0.980\n",
      "Epoch: 14/30 |  Training Loss: 0.026 |  Test Loss: 0.120 |  Test Accuracy: 0.978\n",
      "Epoch: 15/30 |  Training Loss: 0.022 |  Test Loss: 0.113 |  Test Accuracy: 0.979\n",
      "Epoch: 16/30 |  Training Loss: 0.022 |  Test Loss: 0.123 |  Test Accuracy: 0.976\n",
      "Epoch: 17/30 |  Training Loss: 0.023 |  Test Loss: 0.134 |  Test Accuracy: 0.979\n",
      "Epoch: 18/30 |  Training Loss: 0.020 |  Test Loss: 0.129 |  Test Accuracy: 0.979\n",
      "Epoch: 19/30 |  Training Loss: 0.020 |  Test Loss: 0.124 |  Test Accuracy: 0.978\n",
      "Epoch: 20/30 |  Training Loss: 0.020 |  Test Loss: 0.116 |  Test Accuracy: 0.977\n",
      "Epoch: 21/30 |  Training Loss: 0.017 |  Test Loss: 0.138 |  Test Accuracy: 0.980\n",
      "Epoch: 22/30 |  Training Loss: 0.018 |  Test Loss: 0.117 |  Test Accuracy: 0.982\n",
      "Epoch: 23/30 |  Training Loss: 0.020 |  Test Loss: 0.156 |  Test Accuracy: 0.978\n",
      "Epoch: 24/30 |  Training Loss: 0.019 |  Test Loss: 0.130 |  Test Accuracy: 0.979\n",
      "Epoch: 25/30 |  Training Loss: 0.014 |  Test Loss: 0.117 |  Test Accuracy: 0.981\n",
      "Epoch: 26/30 |  Training Loss: 0.017 |  Test Loss: 0.181 |  Test Accuracy: 0.971\n",
      "Epoch: 27/30 |  Training Loss: 0.016 |  Test Loss: 0.143 |  Test Accuracy: 0.977\n",
      "Epoch: 28/30 |  Training Loss: 0.015 |  Test Loss: 0.130 |  Test Accuracy: 0.982\n",
      "Epoch: 29/30 |  Training Loss: 0.014 |  Test Loss: 0.135 |  Test Accuracy: 0.979\n",
      "Epoch: 30/30 |  Training Loss: 0.016 |  Test Loss: 0.130 |  Test Accuracy: 0.981\n"
     ]
    }
   ],
   "source": [
    "model = Classifier()\n",
    "epochs = 30\n",
    "train_model(model, 30, verbose=True)"
   ]
  },
  {
   "cell_type": "code",
   "execution_count": 19,
   "metadata": {},
   "outputs": [
    {
     "data": {
      "image/png": "[encoded data removed]",
      "text/plain": [
       "<Figure size 432x648 with 2 Axes>"
      ]
     },
     "metadata": {
      "needs_background": "light"
     },
     "output_type": "display_data"
    }
   ],
   "source": [
    "import helper\n",
    "import numpy as np\n",
    "\n",
    "model.eval()\n",
    "img = test_data[0].view(1, 784).float()\n",
    "with torch.no_grad():\n",
    "    output = model(img)\n",
    "\n",
    "ps = torch.exp(output)\n",
    "helper.view_img_classify(img, ps)"
   ]
  },
  {
   "cell_type": "code",
   "execution_count": 8,
   "metadata": {},
   "outputs": [
    {
     "name": "stdout",
     "output_type": "stream",
     "text": [
      "Epoch: 04/04 |  Training Loss: 0.063 |  Test Loss: 0.090 |  Test Accuracy: 0.973\n",
      "Epoch: 03/03 |  Training Loss: 0.077 |  Test Loss: 0.092 |  Test Accuracy: 0.975\n",
      "Epoch: 03/03 |  Training Loss: 0.074 |  Test Loss: 0.105 |  Test Accuracy: 0.970\n",
      "Epoch: 04/04 |  Training Loss: 0.063 |  Test Loss: 0.086 |  Test Accuracy: 0.975\n",
      "Epoch: 03/03 |  Training Loss: 0.080 |  Test Loss: 0.115 |  Test Accuracy: 0.967\n",
      "Epoch: 04/04 |  Training Loss: 0.065 |  Test Loss: 0.096 |  Test Accuracy: 0.974\n",
      "Epoch: 04/04 |  Training Loss: 0.064 |  Test Loss: 0.095 |  Test Accuracy: 0.975\n",
      "Epoch: 04/04 |  Training Loss: 0.064 |  Test Loss: 0.095 |  Test Accuracy: 0.975\n",
      "Epoch: 03/03 |  Training Loss: 0.081 |  Test Loss: 0.101 |  Test Accuracy: 0.970\n",
      "Epoch: 04/04 |  Training Loss: 0.061 |  Test Loss: 0.092 |  Test Accuracy: 0.974\n"
     ]
    }
   ],
   "source": [
    "# fake 'teacher' models which are just not very trained\n",
    "num_teachers = 10\n",
    "teachers = []\n",
    "for i in range(num_teachers):\n",
    "    teacher = Classifier()\n",
    "    epochs = np.random.randint(0, 5)\n",
    "    train_model(teacher, epochs, verbose=False)\n",
    "    teachers.append(teacher)"
   ]
  },
  {
   "cell_type": "code",
   "execution_count": 29,
   "metadata": {},
   "outputs": [
    {
     "data": {
      "text/plain": [
       "(1000, 100)"
      ]
     },
     "execution_count": 29,
     "metadata": {},
     "output_type": "execute_result"
    }
   ],
   "source": [
    "num_examples = 1000\n",
    "teacher_multiplier = 10    # replicate each teacher's predictions 10x\n",
    "preds = np.empty([num_examples, num_teachers * teacher_multiplier])\n",
    "with torch.no_grad():\n",
    "    for i in range(num_examples):\n",
    "        for j in range(num_teachers):\n",
    "            img = test_data[i].view(1, 784).float()\n",
    "            ps = torch.exp(teachers[j](img))\n",
    "            _, pred = ps.topk(1, dim=1)\n",
    "            preds[i][j:(j + teacher_multiplier)] = pred\n",
    "        np.random.shuffle(preds[i])\n",
    "\n",
    "preds = preds.astype(int)\n",
    "preds.shape"
   ]
  },
  {
   "cell_type": "code",
   "execution_count": 30,
   "metadata": {},
   "outputs": [
    {
     "data": {
      "text/plain": [
       "(1000,)"
      ]
     },
     "execution_count": 30,
     "metadata": {},
     "output_type": "execute_result"
    }
   ],
   "source": [
    "# add noise\n",
    "new_labels = [] for img_pred in preds:\n",
    "    label_counts = np.bincount(img_pred, minlength=10)\n",
    "\n",
    "    epsilon = 0.1\n",
    "    beta = 1 / epsilon\n",
    "\n",
    "    for i in range(len(label_counts)):\n",
    "        label_counts[i] += np.random.laplace(0, beta, 1)\n",
    "\n",
    "    new_label = np.argmax(label_counts)\n",
    "\n",
    "    new_labels.append(new_label)\n",
    "\n",
    "new_labels = np.array(new_labels)\n",
    "new_labels.shape"
   ]
  },
  {
   "cell_type": "code",
   "execution_count": 31,
   "metadata": {
    "lines_to_next_cell": 0
   },
   "outputs": [
    {
     "name": "stdout",
     "output_type": "stream",
     "text": [
      "Data Independent Epsilon: 51.51292546497024\n",
      "Data Dependent Epsilon: 7.898792096760465\n"
     ]
    }
   ],
   "source": [
    "from syft.frameworks.torch.differential_privacy import pate\n",
    "\n",
    "# PATE Analysis\n",
    "teacher_preds = preds.transpose()\n",
    "data_dep_eps, data_ind_eps = pate.perform_analysis(teacher_preds, indices=new_labels, noise_eps=0.1)\n",
    "\n",
    "print(\"Data Independent Epsilon:\", data_ind_eps)\n",
    "print(\"Data Dependent Epsilon:\", data_dep_eps)"
   ]
  },
  {
   "cell_type": "code",
   "execution_count": null,
   "metadata": {},
   "outputs": [],
   "source": []
  },
  {
   "cell_type": "code",
   "execution_count": null,
   "metadata": {},
   "outputs": [],
   "source": []
  }
 ],
 "metadata": {
  "jupytext": {
   "encoding": "# -*- coding: utf-8 -*-",
   "formats": "ipynb,./py:light"
  },
  "kernelspec": {
   "display_name": "Python 3",
   "language": "python",
   "name": "python3"
  },
  "language_info": {
   "codemirror_mode": {
    "name": "ipython",
    "version": 3
   },
   "file_extension": ".py",
   "mimetype": "text/x-python",
   "name": "python",
   "nbconvert_exporter": "python",
   "pygments_lexer": "ipython3",
   "version": "3.7.4"
  }
 },
 "nbformat": 4,
 "nbformat_minor": 2
}
